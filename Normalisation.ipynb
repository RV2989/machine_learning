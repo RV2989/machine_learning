{
 "cells": [
  {
   "cell_type": "code",
   "execution_count": 1,
   "id": "9a06b2ed",
   "metadata": {},
   "outputs": [],
   "source": [
    "#Normalisation is the technique often applied as a part of data preparation for machine learning . The goal of normalisation is to change the values of numeric columns in the dataset to use a comman scale, without disortion differencies in the ranges of values or loosing information"
   ]
  },
  {
   "cell_type": "code",
   "execution_count": 2,
   "id": "c6ff8036",
   "metadata": {},
   "outputs": [],
   "source": [
    "#Types of normalisation \n",
    "#1. MinMaxScaling \n",
    "#2. Mean Normalisation \n",
    "#3. Max absolute scaling\n",
    "#4. Robust Scaling\n"
   ]
  },
  {
   "cell_type": "code",
   "execution_count": null,
   "id": "a8148a2e",
   "metadata": {},
   "outputs": [],
   "source": [
    "#mix max scaling \n",
    "#if there is a column called max "
   ]
  }
 ],
 "metadata": {
  "kernelspec": {
   "display_name": "Python 3 (ipykernel)",
   "language": "python",
   "name": "python3"
  },
  "language_info": {
   "codemirror_mode": {
    "name": "ipython",
    "version": 3
   },
   "file_extension": ".py",
   "mimetype": "text/x-python",
   "name": "python",
   "nbconvert_exporter": "python",
   "pygments_lexer": "ipython3",
   "version": "3.11.4"
  }
 },
 "nbformat": 4,
 "nbformat_minor": 5
}
